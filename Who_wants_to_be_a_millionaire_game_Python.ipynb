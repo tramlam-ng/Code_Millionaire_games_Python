{
  "nbformat": 4,
  "nbformat_minor": 0,
  "metadata": {
    "colab": {
      "name": "Copy of Lam Ngoc Tram-Answer- Who_wants_to_be_a_millionaire_game.ipynb",
      "provenance": [],
      "collapsed_sections": [],
      "include_colab_link": true
    },
    "kernelspec": {
      "name": "python3",
      "display_name": "Python 3"
    },
    "language_info": {
      "name": "python"
    }
  },
  "cells": [
    {
      "cell_type": "markdown",
      "metadata": {
        "id": "view-in-github",
        "colab_type": "text"
      },
      "source": [
        "<a href=\"https://colab.research.google.com/github/tramlam-ng/Code_Millionaire_games_Python/blob/main/Who_wants_to_be_a_millionaire_game_Python.ipynb\" target=\"_parent\"><img src=\"https://colab.research.google.com/assets/colab-badge.svg\" alt=\"Open In Colab\"/></a>"
      ]
    },
    {
      "cell_type": "code",
      "metadata": {
        "id": "AmSrIZpEft9Q"
      },
      "source": [
        "# Get the file path\n",
        "file_path = 'wwbm_qa.txt'"
      ],
      "execution_count": null,
      "outputs": []
    },
    {
      "cell_type": "code",
      "metadata": {
        "id": "LlzZEirQhpMQ",
        "colab": {
          "base_uri": "https://localhost:8080/",
          "height": 37
        },
        "outputId": "c521a569-6be5-4623-d074-3d11d7ea8101"
      },
      "source": [
        "# Open the file and get the lines \n",
        "# Save it into questions and answers \n",
        "with open(file_path, 'r') as qa:\n",
        "    data = qa.readlines()\n",
        "\n",
        "data[0]"
      ],
      "execution_count": null,
      "outputs": [
        {
          "output_type": "execute_result",
          "data": {
            "application/vnd.google.colaboratory.intrinsic+json": {
              "type": "string"
            },
            "text/plain": [
              "'Which disease devastated livestock across the UK during 2001?[Handandfoot,Footinmouth,Handtomouth,Footandmouth,Footandmouth\\n'"
            ]
          },
          "metadata": {
            "tags": []
          },
          "execution_count": 10
        }
      ]
    },
    {
      "cell_type": "markdown",
      "metadata": {
        "id": "DnYaixce0vS5"
      },
      "source": [
        "# 1. Create a questions and answers bank\n",
        "\n",
        "We want something like this:\n",
        "\n",
        "- questions: contains all the questions that you have \n",
        "multiple_choices: all the multiple choices option to give to our players\n",
        "- answers: contains all the answers \n",
        "\n",
        "**NOTE**: Some lines contain wrong answers (it's not an option from the multiple choices) -> you need to clean these \n"
      ]
    },
    {
      "cell_type": "code",
      "metadata": {
        "id": "eBlpgzb21t8f"
      },
      "source": [
        "\n",
        "import re\n",
        "import time\n",
        "import random\n"
      ],
      "execution_count": null,
      "outputs": []
    },
    {
      "cell_type": "code",
      "metadata": {
        "id": "IqVWDy1UxBDG"
      },
      "source": [
        "def retrieve_ques(data):\n",
        "  pattern = r'^.*\\?'\n",
        "  questionnaire = []\n",
        "  for i in range(len(data)):\n",
        "    data[i] = data[i].strip()\n",
        "    ques_find = re.findall(pattern, data[i])\n",
        "    questionnaire.append(ques_find)\n",
        "\n",
        "  return questionnaire\n",
        "  \n",
        "questionnaire = retrieve_ques(data)"
      ],
      "execution_count": null,
      "outputs": []
    },
    {
      "cell_type": "code",
      "metadata": {
        "colab": {
          "base_uri": "https://localhost:8080/"
        },
        "id": "9FTfvNH32jgc",
        "outputId": "a56b3125-179d-4815-8d4b-859bcd111852"
      },
      "source": [
        "def retrieve_answer(data):\n",
        "  pattern = r'\\[.*$'\n",
        "  answer_list = []\n",
        "  choices = []\n",
        "  correct_answer = []\n",
        "  for i in range(len(data)):\n",
        "    data[i] = data[i].strip()\n",
        "    ans_find = re.findall(pattern, data[i])\n",
        "    answer_list.append(ans_find)\n",
        "    temp = answer_list[i][0].split(',') \n",
        "    choices.append(temp[:4])\n",
        "    correct_answer.append(temp[-1])\n",
        "  return choices, correct_answer\n",
        "\n",
        "choices_bank, answer_list = retrieve_answer(data)\n",
        "print(answer_list)"
      ],
      "execution_count": null,
      "outputs": [
        {
          "output_type": "stream",
          "text": [
            "['Footandmouth', 'Anaconda', 'Frogmen', 'Tax', 'Kick it', 'On your sleeve', 'Cables', 'Potatoes', 'Elbow room', 'Pun', 'Black', 'The Terminator', 'Oscar', 'France', 'Best man', 'America', 'Germany', 'Liverpoolshire', 'Belgravia', 'Ace', 'Wear it', 'Plane', 'Candy', 'Gumbo', 'Fish', 'Boat', 'Nine', 'Harpsichord', 'Rotten', 'Aloe vera', 'Jesus Christ', 'One', 'CD', 'Ireland', 'The Watercarrier', 'Pack of cards', 'Chips', 'Dune', 'Torso', 'Welterweight', 'The referee', 'Skiing', 'Cat', 'Ice', 'Knots Landing', \"Dawson's Creek\", 'Floor exercises', 'Stumps', 'Spherical', 'Nicholas Nickleby', 'Cup of tea', 'Almost certain', 'Burrowing', 'Gorilla', 'Quakers', 'Air', 'Bassoon', 'Simple Simon', 'Rush', 'Larder', 'Wine', 'Germany', 'London Eye', 'Inverclyde', 'Maidstone', 'Kilimanjaro', 'United', 'Tiller Girls', 'Illusionist', 'Jacket', 'Nosebag', 'Shakes', 'Hair', 'Threelegged', 'Jools Holland', 'Crufts', 'Indiana Jones', 'Train', 'Prince Harry', 'Scunthorpe United', 'Dirty Den', 'St George', \"St David's Day\", 'Good', 'Country & Western', 'Cheapskate', 'Keep fit', 'Amusement arcade', 'Flyposting', 'National Lottery', 'Window', 'Bitter', 'Flutter', 'Sundae', 'Hang up', 'Carnation', 'Nerveracking', 'Patacake', 'Joe Bloggs', 'Dashboard', 'Crash helmet', 'Posse', 'On the rocks', 'Pet', 'Ringway', 'High Road', 'East London', 'McCloud', 'Top Gear', 'Darts', 'Lungs', 'Boracic', 'The Big Dipper', 'Bon Jovi', 'Last Christmas', 'I love you', 'U2', 'Snare', 'Carbon', 'A curry', 'Tommy Tucker', 'Four Seasons', 'Alton Towers', 'Biriani', 'Gnocchi', 'Bolognese', 'Middlesbrough', 'Bloater', 'Mario', 'Charles Macintosh', 'Blackjack', 'Draughts', 'Nelson', 'Arthur', 'Cheddar', 'National Trust', 'South Norfolk', 'Greece', 'Cider', 'Tanner', 'Nickel', 'Midnight Cowboy', 'Scottish', 'MiniMe', 'Samurai', 'Speed', 'Chess', 'Hermit', 'Lager lout', 'Weir', 'Puppy love', 'Ace', 'Mace', 'Tooth', 'Eyes', 'Revenge', 'ABC', 'Duck', 'Cricket', 'QBE', 'Chain', 'Ann Summers', 'Francis Bacon', 'Roll into a ball', 'Oystercatcher', 'Margarine', 'Buzz', 'Tie', 'The Hulk', 'Caribbean', 'Johnny Cash', 'Jackaroo', 'Madagascar', 'Michael Schumacher', '2012 Olympics', 'Get Me Out of Here', 'Lord Archer', 'South Pole', 'Alastair Campbell', 'Shane Warne', 'Dennis Wise', 'David Blaine', 'Dusty', 'Blur', 'Linoleum', 'Bottom dollar', 'Bermuda shorts', 'Succulent', 'Chipolata', 'Pointing', 'Rubber', 'Baked Alaska', 'Chips', 'Cast', 'Venus flytrap', 'Very thin', 'The ice', 'Cheese', 'Crossword', 'Grape', 'Safety net', 'An auction', 'Roundheads', 'Lover', 'The Pentagon', 'Gatecrash', 'Big Bang', 'Apple a day', 'Boxing', 'Tooth fairy', 'Tabloid', 'Qantas', 'Bulldozer', 'Highway code', 'Tandoori Nights', 'Grundy', \"John Smith's\", 'Bionic', 'Hallmark', 'Plan', 'Speedy Gonzales', 'Catch a crab', 'Baabaas', 'Adenoids', 'Anabolic', 'Amplifier', 'Two', 'Uranium', 'Green goblin', 'Bell', 'Anastacia', 'Bananarama', 'Lonely Hearts', 'Blockheads', 'Take That', 'So Solid Crew', 'MisTeeq', 'Me', 'Balalaika', 'Jack', 'Feather', 'The Boat', 'Friday', 'Airport novel', 'Thespian', 'Root', 'Cinnamon', 'Lorraine', 'Thousand Island', 'Cheese', 'Old Spice', 'Victim', 'Cluedo', 'Chevy Chase', 'Parallax', 'Tilbury', 'Admiralty Arch', 'Matlock', 'German Bight', 'Crete', 'Roi', 'Field', 'Bomb', 'Pearl Earring', 'Cinderella', 'Rydell High', 'Rag', 'Umbrage', 'Afters', 'Announcer', 'Hands', 'Standard', 'Lunch', 'Wedding ring', 'Make hay', 'Egg', 'Pull it', 'Birds', 'Tannoy', 'Mind', 'Macadam', 'Dartmoor', 'Earth', 'Locusts', 'Hairballs', 'Brawny', 'Star', 'Wayne Rooney', 'Gigli', 'Love', 'The Cheeky Girls', 'Mobile phones', 'The Schumachers', 'A Eurostar train', 'Flash mobbing', 'Eurovision', 'David Beckham', 'Royal', 'Food blender', 'King', 'Blockbuster', 'Muzzle', 'Stud', 'Mafia', 'Punt', 'Rodeo', 'Model railway kits', 'Bingo', 'Erno Rubik', 'Donkey', \"Murphy's Law\", 'Farmhouse', 'Chaps', 'Wedding', 'The tube', 'Wash', 'Weigh it', 'Sopwith Camel', 'Dyce', 'JCB', 'Japan', 'Mr Motivator', 'Can', 'Creek', 'The Long Johns', 'Paul Whitehouse', 'Pool', 'Rugby', 'Gymnastics', 'Italian', 'Gallon', 'Bar', 'Altitude sickness', 'Mumps', 'By The Way', 'Washing soda', 'Mount', 'MP', 'Woodbine', 'Elm', 'Money for Nothing', 'T. Rex', 'Geri', 'Crowded House', 'Fret', 'Moby', 'Twain', 'Space', 'Ivory', 'Boil', 'Monk', 'Pi', 'Basil', 'Sugar', 'Tempura', 'Taco', 'Dim sum', 'Lager', 'Fry', 'Alchemy', 'Mark Antony', 'Amerigo Vespucci', 'Northampton', 'Blackfriars', 'Piraeus', 'Mexico', 'Missouri', 'Cayenne', 'Archipelago', 'Danube', '28', 'Road to Perdition', 'The Italian Job', 'Cliff Richard', 'Scrambler', 'Jargon', 'Thieves', 'Swinging', 'Flunk', 'PVC', 'BSA', 'DERV', 'Thorax', 'London', 'Ark Royal', 'Brigadier', 'Salmon', 'Dalmatian', 'Mute swan', 'New Guinea', 'Royal Marines', 'Six Nations', \"Sainsbury's\", 'Finding Nemo', 'Barry White', \"When I'm 64\", 'Justin Timberlake', 'Short', 'Italy', 'Red White & Blonde', 'Dewclaw', 'Drink it', 'Alpha & Beta', 'Venus', 'Jelly Roll', 'Trowel', 'Damask', 'Dibber', 'Flutter', 'Render', 'Blown', 'Bow & arrow', 'Maple', 'Jennifer Lopez', 'Lady Penelope', 'Porridge', 'Parklife', 'Exxon', 'Meg Ryan', 'Thames', 'Toblerone', 'Packet', 'Lancaster', 'Jacko', 'Lynne', 'Fred Dibnah', 'Mastermind', 'Bones', 'Shots', 'No 1', 'Movies', 'Foul', 'Tennis', 'To Dare is to Do', 'The Cat', 'Jab', 'Nephritis', 'Platelets', 'Domain', 'Leeds', 'Groundnut', 'Head', 'Britney Spears', 'Paris', 'Knowles', 'Clannad', 'Ireland', 'Dynamics', 'Wilburys', 'Jazz', '1st April', 'Actress', 'World', 'Furies', 'Mystery', 'FBI', 'Stevedore', 'Chessington', 'Noughts & crosses', 'Tart', 'Sausage', 'Tomato juice', 'Vodka', 'Laughing Cow', 'Vertical', 'Trousers', 'Longbow', 'CIS', 'America', 'Blackpool', 'Delta', 'Casablanca', 'Mediterranean', 'Atlantic', 'Nancy', 'Ireland', 'Chevy Chase', 'Brody', 'Grip', 'Car', '8 Mile', 'Mighty Aphrodite', 'Air Force One', 'Chorus', 'Glitterati', 'Funambulist', 'Strike', 'Sierra', 'Common', 'Account', 'Shells', 'Barbel', 'Angora', 'Frigate bird', 'Blingbling', 'Bruce Almighty', 'Elton John', 'Gary Lineker', 'Stocking stitch', 'PAL', 'Boers', 'Concorde', 'Intestacy', 'Computer keyboard', 'Chinese', 'Red', 'Malaga', 'Marque', 'New York', \"Howard's Way\", 'Liar', 'Galactica', 'Ozzy Osbourne', 'Cheers', 'Harry Enfield', 'Angelo', 'Ensign', 'No 8 forward', 'Basketball', 'Ian Wright', 'Body line', 'Kilograms', 'Rabies', 'Cobalt', 'Golden Jubilee', 'Ishmael', 'Baroness', 'Wets', 'Lips', 'Pearl Jam', 'Jamiroquai', 'Cliff', 'Agatha Christie', 'Banshee', 'Soldiers', 'The Bar', 'Condiments', 'Haggis', 'Compote', 'Rummy', 'Athelstan', 'Mangonel', 'Bunker Hill', 'Barry', 'Cornwall', 'Hungary', 'Africa', 'Jerusalem', 'Alberta', 'Caen', 'Garda', 'Dragon', 'Chili Palmer', 'Numbers', 'Mafia hitman', 'Absurd', 'The Sound of Music', 'Navvy', 'Bootlegger', 'The Devil', 'Churchyard', 'Motion study', 'IOW', 'Positioning', 'San Francisco', 'Domestic', 'Red', 'Policeman', 'Bactrian', 'Pterodactyl', 'Alewife', 'Ovenbird', 'Liza Minnelli', 'Kill Bill', 'Pierce Brosnan', 'J K Rowling', 'Fidel Castro', 'Computer virus', 'Chelsea', 'Gay kiss', 'rincess', 'Beetle', 'China', '3', 'White House', 'Gabby Logan', 'CB', 'Trades', 'Monte Cristo', 'Kevin Costner', 'Drink it', 'Weightlifting', 'James II', 'Acoustics', 'Railway tracks', 'Viking', 'Stealth', 'Green card', 'Frasier', 'Roseanne Barr', 'Teachers', 'A Hard Place', 'England', 'Oval', 'Boxing', 'US ProAm', 'Graham Taylor', 'Pakistan', 'Dermatology', 'Earthquakes', 'I serve', 'South Africa', '25th January', 'Bread', 'Duran Duran', 'Salsa', 'Hyde Park', 'Kerrang!', 'The Twits', 'The Fog', 'Cigars', 'Soya', 'California', 'd', 'Hat', 'Snake eyes', '1066', 'Berserker', 'Luftwaffe', 'Crazy Horse', 'Cornwall', 'Birmingham', 'Grampian', 'Croatia', 'Arctic', 'Italy', 'Aegean', 'Egypt', 'One', 'Mojave Desert', 'Iowa', 'Arizona', 'Asia', 'S', 'Markka', 'Henry VIII', 'Christmas', 'Haley Joel Osment', 'Matthew', 'Morgan Freeman', 'City of God', 'Men in Black II', 'The Recruit', 'Purple', 'King', 'Taxi Driver', 'Birthday', 'Fender', 'Slate', 'Fag', 'G', 'Pop', 'Daisy Cutter', 'Pygmy shrew', 'Three', 'Feather', 'Moa', 'Grimsby', 'Daily Express', 'Hallmarks', 'Sheffield', 'M40', 'Audi', 'Leeds', 'Radar', 'Mouse', 'C.U. Jimmy', 'Gala', 'Spanish', 'Ice hockey', 'Drag racing', 'Ferrari', 'Chelsea', 'The Waughs', 'Canines', 'Kidney', 'Ammeter', 'Wing', 'Diameter', 'China', 'Anne', 'George Bush Snr', 'Neil Kinnock', 'Norwegian', '1970s', 'Oyster', 'George', 'French', 'Peacock', 'Mark Twain', 'Photographic film', 'Root', 'Opera singer', 'Gin', 'Avocado', 'Nelson', 'Tower of London', 'Red', 'USA', 'Essex', 'Plymouth', 'Staffordshire', 'Greece', 'Pacific', 'Egypt', 'Chile', 'Ontario', 'East', 'California', 'Australia', 'Cambodia', 'Bullring', 'Switzerland', 'Mickey Mouse', 'Dream', 'Clarabelle', 'Keira Knightley', 'DFens', 'Leonardo DiCaprio', 'Al Pacino', 'Comedy', 'Barker', 'Evening', 'Ground Force', 'Thorium', 'Midland', 'Military Police', 'Snail', 'Tuna', 'Dog', 'Puffin', 'Velvet Divorce', 'Eastbourne', 'Napoleon Bonaparte', 'Holloway', 'MI6', 'Lulsgate', 'Toucan', 'Ally McBeal', 'Peugeot 206', 'B J', 'Brenda', 'March/April', 'Marlins', 'Brakes', 'Peter Shilton', 'OBE', '400m', 'Sun', 'Elizabeth I', 'Flowering plant', 'Satsuma', 'MBEs', 'Madonna', 'Eddie', 'Belgium', 'Beethoven', 'Sylvia Plath', 'Daniel DayLewis', 'The Fancy', 'Fridge', 'Leicester', 'Pottery', 'Whisky', 'Apple', 'Strega', 'Cheese fondue', 'Amaretto', 'Cousin', 'Jordan', 'BosniaHerzegovina', 'Oslo', 'Alaska', 'Alcatraz', 'Rhine', 'Tiananmen Square', 'Pakistan', 'Busta Rhymes', 'Johnny Depp', 'Hansel', 'Male model', 'The Smell of Fear', 'Farce', 'Steaming', 'The Beautiful Game', 'Disney', 'First water', 'Oil', 'Idi Amin', 'Diners Club', 'Carpets', 'Lobster', 'California condor', 'Sardinia', 'Suffolk', 'Clarinet', \"Cat's whisker\", 'Mitsubishi', 'Nottinghamshire', 'The Sex Pistols', 'Elizabeth Fry', 'Shakespeare', 'West Sussex', 'Go into space', 'Newman & Baddiel', 'Clive Woodward', 'Brussels', 'Braemar', 'Murray Walker', 'Newmarket', 'Double eagle', 'Hectare', 'Malaria', 'MN', 'Yellow', 'Mount of Olives', 'Anthrax', 'Nightlife Thugs', 'Misty Kyd Heath', 'Alan Alexander', 'Keats', 'P D', 'Clare', 'Coriander', 'Filled pancake', 'Toe end', 'Gucci', '13', 'Hanover', 'Memphis', 'Hyde Park', 'Anglesey', 'Ibiza', 'Television', 'Africa', 'Hungary', 'Black', 'Oklahoma City', 'India', 'Sri Lanka', 'Pakistan', 'Chelsea', 'Touching The Void', 'Reese Witherspoon', 'Octopussy', 'Deference', 'Playboy', 'Colonel', 'Elephant', 'Solid Snake', 'Charolais', 'Nancy', 'Sheffield', 'Sleepy Hollow', 'Crystal Palace', 'Victoria', 'Dreadnought', 'Doctor', 'M*A*S*H', '1999', 'Bottle', 'Ronaldo', 'Back', 'Phoebe', 'Ursa Minor', 'Hunter', 'Watchtower', 'Pepsi', 'Joan Aiken', 'Monica', 'Spider', 'Brobdingnag', 'Darwin', 'Scampi', 'Jamaica', '15', 'Shackleton', 'Priest', '18th', 'Exeter', 'Shropshire', 'Madrid', 'Winds', 'Belarus']\n"
          ],
          "name": "stdout"
        }
      ]
    },
    {
      "cell_type": "code",
      "metadata": {
        "id": "vLC2USr24rpy"
      },
      "source": [
        "#Remove [ from the first choice\n",
        "for i in range(len(choices_bank)):\n",
        "  choices_bank[i][0] = choices_bank[i][0].replace('[', '')"
      ],
      "execution_count": null,
      "outputs": []
    },
    {
      "cell_type": "code",
      "metadata": {
        "id": "1k21AYC75VOO"
      },
      "source": [
        "#Match Q&A and choices\n",
        "data_bank = []\n",
        "for i in range(len(data)):\n",
        "  item = (questionnaire[i], choices_bank[i], answer_list[i])\n",
        "  data_bank.append(item)"
      ],
      "execution_count": null,
      "outputs": []
    },
    {
      "cell_type": "markdown",
      "metadata": {
        "id": "pHmXCMpX1vKE"
      },
      "source": [
        "# 👏 2. Create the millionaire game"
      ]
    },
    {
      "cell_type": "code",
      "metadata": {
        "id": "S34SlKVl2AKh"
      },
      "source": [
        "# Create random questions\n",
        "def random_generate_question():\n",
        "  random_number = 0\n",
        "  random_generate = random.sample(range(len(data_bank)),1)\n",
        "  question = questionnaire[int(str(random_generate).replace('[','').replace(']',''))]\n",
        "  choices = choices_bank[int(str(random_generate).replace('[','').replace(']',''))]\n",
        "  answer = answer_list[int(str(random_generate).replace('[','').replace(']',''))]\n",
        "  \n",
        "  return question,choices,answer"
      ],
      "execution_count": null,
      "outputs": []
    },
    {
      "cell_type": "code",
      "metadata": {
        "id": "q_b1h11tlQR_"
      },
      "source": [
        "#Prize dictionary:\n",
        "prize_dict = {\n",
        "1: '$100',\n",
        "\n",
        "2:'$200',\n",
        "\n",
        "3:'$300',\n",
        "\n",
        "4:'$500',\n",
        "\n",
        "5:'$1000',\n",
        "\n",
        "6:'$2000',\n",
        "\n",
        "7:'$4000',\n",
        "\n",
        "8:'$8000',\n",
        "\n",
        "9:'$16000',\n",
        "\n",
        "10:'$32000',\n",
        "\n",
        "11:'$64000',\n",
        "\n",
        "12:'$125000',\n",
        "\n",
        "13:'$250000',\n",
        "\n",
        "14:'$500000',\n",
        "\n",
        "15:'$1000000',\n",
        "    \n",
        "}"
      ],
      "execution_count": null,
      "outputs": []
    },
    {
      "cell_type": "code",
      "metadata": {
        "id": "XGkEH7mc9bjM"
      },
      "source": [
        "# sudden give-in\n",
        "\n",
        "def is_quit(quit):\n",
        "  if quit == True:\n",
        "    ques = input('Do you want to continue? Y/N')\n",
        "    if ques.upper() == 'Y':\n",
        "      return True\n",
        "\n",
        "def game_rules():\n",
        "  prize = 0\n",
        "  total_prize = 0\n",
        "  print('*****************************')\n",
        "  print('Get prepared for being a Millionaire!')\n",
        "\n",
        "  for i in range(15):\n",
        "    question,choices,answer = random_generate_question()\n",
        "    dict_answer = {\n",
        "        choices[0]: 'A',\n",
        "        choices[1]: 'B',\n",
        "        choices[2]: 'C',\n",
        "        choices[3]: 'D'\n",
        "    } \n",
        "    print('Your question is: ', )\n",
        "    print(f'Question {i + 1} {question}')\n",
        "    print(f'A: {choices[0]}')\n",
        "    print(f'B: {choices[1]}')\n",
        "    print(f'C: {choices[2]}')\n",
        "    print(f'D: {choices[3]}')\n",
        "\n",
        "    user_answer = input('Your answer is: ')\n",
        "    time.sleep(30)\n",
        "\n",
        "    if user_answer.upper() == dict_answer[answer]:\n",
        "      print(f'Bravo!, The answer is {answer}')\n",
        "      quit = True\n",
        "      prize += 1\n",
        "      total_prize = prize_dict[prize]\n",
        "      if i == 14:\n",
        "        return print(f\"Thank you for playing with us. You had answer correctly {i+1} questions and you total prize is {total_prize}\")\n",
        "      if is_quit(quit):\n",
        "        continue\n",
        "      else:\n",
        "        return print(f\"Thank you for playing with us, your total prize is {total_prize}.\")\n",
        "    else:\n",
        "      return print(f'Oh no, the correct answer is {dict_answer[answer]}: {answer}. Your total prize is $0. Thank you for playing.')\n",
        "\n"
      ],
      "execution_count": null,
      "outputs": []
    },
    {
      "cell_type": "code",
      "metadata": {
        "id": "SDZZwgKMCXsx"
      },
      "source": [
        "game_rules()"
      ],
      "execution_count": null,
      "outputs": []
    }
  ]
}